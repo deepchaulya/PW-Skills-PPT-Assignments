{
  "nbformat": 4,
  "nbformat_minor": 0,
  "metadata": {
    "colab": {
      "provenance": [],
      "authorship_tag": "ABX9TyMK8FP5Jidi+Ezwu+LBjZWy",
      "include_colab_link": true
    },
    "kernelspec": {
      "name": "python3",
      "display_name": "Python 3"
    },
    "language_info": {
      "name": "python"
    }
  },
  "cells": [
    {
      "cell_type": "markdown",
      "metadata": {
        "id": "view-in-github",
        "colab_type": "text"
      },
      "source": [
        "<a href=\"https://colab.research.google.com/github/deepchaulya/PW-Skills-PPT-Assignments/blob/main/PW_Skills_PPT_Assgn_1.ipynb\" target=\"_parent\"><img src=\"https://colab.research.google.com/assets/colab-badge.svg\" alt=\"Open In Colab\"/></a>"
      ]
    },
    {
      "cell_type": "markdown",
      "source": [],
      "metadata": {
        "id": "xyLjkOLbvUZi"
      }
    },
    {
      "cell_type": "markdown",
      "source": [
        "<aside>\n",
        "💡 Q1. Given an array of integers nums and an integer target, return indices of the two numbers such that they add up to target.\n",
        "\n",
        "You may assume that each input would have exactly one solution, and you may not use the same element twice.\n",
        "\n",
        "You can return the answer in any order.\n",
        "\n",
        "**Example:**\n",
        "Input: nums = [2,7,11,15], target = 9\n",
        "Output0 [0,1]\n",
        "\n",
        "**Explanation:** Because nums[0] + nums[1] == 9, we return [0, 1]\n",
        "\n",
        "</aside>\n"
      ],
      "metadata": {
        "id": "73JEP-zlvYI7"
      }
    },
    {
      "cell_type": "code",
      "source": [
        "#Solution:\n",
        "\n",
        "class Solution:\n",
        "    def twoSum(self, nums: List[int], target: int) -> List[int]:\n",
        "        lookup={}\n",
        "\n",
        "        for i in range(len(nums)):\n",
        "\n",
        "            if nums[i] in lookup:\n",
        "                return [lookup[nums[i]],i]\n",
        "\n",
        "            else:\n",
        "                lookup[target-nums[i]]=i\n",
        "\n",
        "        return None"
      ],
      "metadata": {
        "id": "3wBgrW5ovh50"
      },
      "execution_count": null,
      "outputs": []
    },
    {
      "cell_type": "markdown",
      "source": [
        "bold text<aside>\n",
        "💡 Q2. Given an integer array nums and an integer val, remove all occurrences of val in nums in-place. The order of the elements may be changed. Then return the number of elements in nums which are not equal to val.\n",
        "\n",
        "Consider the number of elements in nums which are not equal to val be k, to get accepted, you need to do the following things:\n",
        "\n",
        "- Change the array nums such that the first k elements of nums contain the elements which are not equal to val. The remaining elements of nums are not important as well as the size of nums.\n",
        "- Return k.\n",
        "\n",
        "**Example :**\n",
        "Input: nums = [3,2,2,3], val = 3\n",
        "Output: 2, nums = [2,2,_*,_*]\n",
        "\n",
        "**Explanation:** Your function should return k = 2, with the first two elements of nums being 2. It does not matter what you leave beyond the returned k (hence they are underscores)\n",
        "\n",
        "</aside>"
      ],
      "metadata": {
        "id": "jcKqv7SF1ye0"
      }
    },
    {
      "cell_type": "code",
      "source": [
        "#Solution:\n",
        "\n",
        "class Solution:\n",
        "    def removeElement(self, nums: List[int], val: int) -> int:\n",
        "        k=0\n",
        "\n",
        "        for i in range(len(nums)):\n",
        "            if nums[i]  !=val:\n",
        "                nums[k] = nums[i]\n",
        "                k+=1\n",
        "        return k"
      ],
      "metadata": {
        "id": "Azdm7qr71-eV"
      },
      "execution_count": null,
      "outputs": []
    },
    {
      "cell_type": "markdown",
      "source": [
        "<aside>\n",
        "💡 Q3. Given a sorted array of distinct integers and a target value, return the index if the target is found. If not, return the index where it would be if it were inserted in order.\n",
        "\n",
        "You must write an algorithm with O(log n) runtime complexity.\n",
        "\n",
        "**Example 1:**\n",
        "Input: nums = [1,3,5,6], target = 5\n",
        "\n",
        "Output: 2\n",
        "\n",
        "</aside>"
      ],
      "metadata": {
        "id": "snwE1wmG7cRP"
      }
    },
    {
      "cell_type": "code",
      "source": [
        "#Solution:\n",
        "\n",
        "class Solution:\n",
        "    def searchInsert(self, nums: List[int], target: int) -> int:\n",
        "        #Initial\n",
        "        l,r=0, len(nums)-1\n",
        "\n",
        "        while l<=r:\n",
        "            mid=(l+r)//2\n",
        "\n",
        "            if target==nums[mid]:\n",
        "                return mid\n",
        "\n",
        "            if target>nums[mid]:\n",
        "                l=mid+1\n",
        "            else:\n",
        "                r=mid-1\n",
        "\n",
        "        return l\n"
      ],
      "metadata": {
        "id": "kL974QdQ7iWy"
      },
      "execution_count": null,
      "outputs": []
    },
    {
      "cell_type": "markdown",
      "source": [
        "<aside>\n",
        "💡 Q4. You are given a large integer represented as an integer array digits, where each digits[i] is the ith digit of the integer. The digits are ordered from most significant to least significant in left-to-right order. The large integer does not contain any leading 0's.\n",
        "\n",
        "Increment the large integer by one and return the resulting array of digits.\n",
        "\n",
        "**Example 1:**\n",
        "Input: digits = [1,2,3]\n",
        "Output: [1,2,4]\n",
        "\n",
        "**Explanation:** The array represents the integer 123.\n",
        "\n",
        "Incrementing by one gives 123 + 1 = 124.\n",
        "Thus, the result should be [1,2,4].\n",
        "\n",
        "</aside>"
      ],
      "metadata": {
        "id": "WukRWlu39Naj"
      }
    },
    {
      "cell_type": "code",
      "source": [
        "#Solution:\n",
        "\n",
        "class Solution:\n",
        "    def plusOne(self, digits: List[int]) -> List[int]:\n",
        "        digits=digits[::-1]\n",
        "        one,i=1,0\n",
        "\n",
        "        while one:\n",
        "            if i<len(digits):\n",
        "                if digits[i]==9:\n",
        "                    digits[i]=0\n",
        "                else:\n",
        "                    digits[i]+=1\n",
        "                    one=0\n",
        "\n",
        "            else:\n",
        "                digits.append(1)\n",
        "                one=0\n",
        "\n",
        "            i+=1\n",
        "\n",
        "        return digits[::-1]"
      ],
      "metadata": {
        "id": "yDTCUYZa9Tas"
      },
      "execution_count": null,
      "outputs": []
    },
    {
      "cell_type": "markdown",
      "source": [
        "<aside>\n",
        "💡 Q5. You are given two integer arrays nums1 and nums2, sorted in non-decreasing order, and two integers m and n, representing the number of elements in nums1 and nums2 respectively.\n",
        "\n",
        "Merge nums1 and nums2 into a single array sorted in non-decreasing order.\n",
        "\n",
        "The final sorted array should not be returned by the function, but instead be stored inside the array nums1. To accommodate this, nums1 has a length of m + n, where the first m elements denote the elements that should be merged, and the last n elements are set to 0 and should be ignored. nums2 has a length of n.\n",
        "\n",
        "**Example 1:**\n",
        "Input: nums1 = [1,2,3,0,0,0], m = 3, nums2 = [2,5,6], n = 3\n",
        "Output: [1,2,2,3,5,6]\n",
        "\n",
        "**Explanation:** The arrays we are merging are [1,2,3] and [2,5,6].\n",
        "The result of the merge is [1,2,2,3,5,6] with the underlined elements coming from nums1.\n",
        "\n",
        "</aside>"
      ],
      "metadata": {
        "id": "NxCQEc3K_eB5"
      }
    },
    {
      "cell_type": "code",
      "source": [
        "#Solution:\n",
        "\n",
        "class Solution:\n",
        "    def merge(self, nums1: List[int], m: int, nums2: List[int], n: int) -> None:\n",
        "        last=m+n-1\n",
        "\n",
        "        while m>0 and n>0:\n",
        "            if nums1[m-1] > nums2[n-1]:\n",
        "                nums1[last]=nums1[m-1]\n",
        "                m-=1\n",
        "\n",
        "            else:\n",
        "                nums1[last]=nums2[n-1]\n",
        "                n-=1\n",
        "            last-=1\n",
        "\n",
        "\n",
        "        while n>0:\n",
        "            nums1[last]=nums2[n-1]\n",
        "            n,last=n-1,last-1"
      ],
      "metadata": {
        "id": "Afq7scNt_kPK"
      },
      "execution_count": null,
      "outputs": []
    },
    {
      "cell_type": "markdown",
      "source": [
        "**bold text**<aside>\n",
        "💡 Q6. Given an integer array nums, return true if any value appears at least twice in the array, and return false if every element is distinct.\n",
        "\n",
        "**Example 1:**\n",
        "Input: nums = [1,2,3,1]\n",
        "\n",
        "Output: true\n",
        "\n",
        "</aside>"
      ],
      "metadata": {
        "id": "ADEGumzBCsSy"
      }
    },
    {
      "cell_type": "code",
      "source": [
        "class Solution:\n",
        "    def containsDuplicate(self, nums: List[int]) -> bool:\n",
        "        hashset=set()\n",
        "\n",
        "        for n in nums:\n",
        "            if n in hashset:\n",
        "                return True\n",
        "            hashset.add(n)\n",
        "        return False"
      ],
      "metadata": {
        "id": "kNFX7LOICwaz"
      },
      "execution_count": null,
      "outputs": []
    },
    {
      "cell_type": "markdown",
      "source": [
        "<aside>\n",
        "💡 Q7. Given an integer array nums, move all 0's to the end of it while maintaining the relative order of the nonzero elements.\n",
        "\n",
        "Note that you must do this in-place without making a copy of the array.\n",
        "\n",
        "**Example 1:**\n",
        "Input: nums = [0,1,0,3,12]\n",
        "Output: [1,3,12,0,0]\n",
        "\n",
        "</aside>"
      ],
      "metadata": {
        "id": "KJTXP8EHD1Gu"
      }
    },
    {
      "cell_type": "code",
      "source": [
        "class Solution:\n",
        "    def moveZeroes(self, nums: List[int]) -> None:\n",
        "        \"\"\"\n",
        "        Do not return anything, modify nums in-place instead.\n",
        "        \"\"\"\n",
        "        l=0\n",
        "        for r in range(len(nums)):\n",
        "            if nums[r]:\n",
        "                nums[l],nums[r]=nums[r],nums[l]\n",
        "                l+=1\n",
        "        return nums"
      ],
      "metadata": {
        "id": "_2ZVYgF5D4vf"
      },
      "execution_count": null,
      "outputs": []
    },
    {
      "cell_type": "markdown",
      "source": [
        "<aside>\n",
        "💡 Q8. You have a set of integers s, which originally contains all the numbers from 1 to n. Unfortunately, due to some error, one of the numbers in s got duplicated to another number in the set, which results in repetition of one number and loss of another number.\n",
        "\n",
        "You are given an integer array nums representing the data status of this set after the error.\n",
        "\n",
        "Find the number that occurs twice and the number that is missing and return them in the form of an array.\n",
        "\n",
        "**Example 1:**\n",
        "Input: nums = [1,2,2,4]\n",
        "Output: [2,3]\n",
        "\n",
        "</aside>"
      ],
      "metadata": {
        "id": "IIxWopN9Fio8"
      }
    },
    {
      "cell_type": "code",
      "source": [
        "class Solution:\n",
        "    def findErrorNums(self, nums: List[int]) -> List[int]:\n",
        "        rep,mis=None,None\n",
        "        n=len(nums)\n",
        "\n",
        "        sumAct=sum(nums)\n",
        "        sumExp=sum([i for i in range(1,n+1)])\n",
        "        prodAct=reduce(mul,nums)\n",
        "        prodExp=reduce(mul,[i for i in range(1,n+1)])\n",
        "\n",
        "        mis=round((sumAct-sumExp)/((prodAct/prodExp)-1))\n",
        "        rep=(sumAct-sumExp)+mis\n",
        "\n",
        "        return [rep,mis]\n",
        ""
      ],
      "metadata": {
        "id": "lpSE2IlGFjoq"
      },
      "execution_count": null,
      "outputs": []
    }
  ]
}