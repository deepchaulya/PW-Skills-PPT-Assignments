{
  "nbformat": 4,
  "nbformat_minor": 0,
  "metadata": {
    "colab": {
      "provenance": [],
      "authorship_tag": "ABX9TyNGrdTI68EnG/d02YOh6KCv",
      "include_colab_link": true
    },
    "kernelspec": {
      "name": "python3",
      "display_name": "Python 3"
    },
    "language_info": {
      "name": "python"
    }
  },
  "cells": [
    {
      "cell_type": "markdown",
      "metadata": {
        "id": "view-in-github",
        "colab_type": "text"
      },
      "source": [
        "<a href=\"https://colab.research.google.com/github/deepchaulya/PW-Skills-PPT-Assignments/blob/main/PW_Skills_PPT_Assgn_2.ipynb\" target=\"_parent\"><img src=\"https://colab.research.google.com/assets/colab-badge.svg\" alt=\"Open In Colab\"/></a>"
      ]
    },
    {
      "cell_type": "markdown",
      "source": [
        "**Question 1.**\n",
        "Given an integer array nums of 2n integers, group these integers into n pairs (a1, b1), (a2, b2),..., (an, bn) such that the sum of min(ai, bi) for all i is maximized. Return the maximized sum."
      ],
      "metadata": {
        "id": "kxddQ8zmhLnX"
      }
    },
    {
      "cell_type": "code",
      "source": [
        "#Solution:\n",
        "\n",
        "def arrayPairSum(nums):\n",
        "        nums.sort()\n",
        "        sum1=0\n",
        "        for i in range(0,len(nums),2):\n",
        "            sum1=sum1+nums[i]\n",
        "\n",
        "        return sum1\n",
        "\n",
        "#Test\n",
        "print (arrayPairSum([1,4,3,2]))\n",
        "print (arrayPairSum([6,2,6,5,1,2]))"
      ],
      "metadata": {
        "colab": {
          "base_uri": "https://localhost:8080/"
        },
        "id": "D8-_hlFshZIC",
        "outputId": "2646659c-a57d-4504-8446-5b462c87aaa2"
      },
      "execution_count": 2,
      "outputs": [
        {
          "output_type": "stream",
          "name": "stdout",
          "text": [
            "4\n",
            "9\n"
          ]
        }
      ]
    },
    {
      "cell_type": "markdown",
      "source": [
        "**Question 2**. Given the integer array candyType of length n, return the maximum number of different types of candies Alice can eat if she only eats n / 2 of them.\n"
      ],
      "metadata": {
        "id": "cviYxIPniZAE"
      }
    },
    {
      "cell_type": "code",
      "source": [
        "#Solution:\n",
        "\n",
        "def distributeCandies(candyType):\n",
        "        return min(len(set(candyType)),len(candyType)//2)\n",
        "\n",
        "#Test\n",
        "print(distributeCandies([1,1,2,2,3,3]))\n",
        "print(distributeCandies([1,1,2,3]))\n",
        "print(distributeCandies([6,6,6,6]))"
      ],
      "metadata": {
        "colab": {
          "base_uri": "https://localhost:8080/"
        },
        "id": "a9VqfakEis3r",
        "outputId": "c1cfe153-75fc-451d-885f-5c011288a4c5"
      },
      "execution_count": 4,
      "outputs": [
        {
          "output_type": "stream",
          "name": "stdout",
          "text": [
            "3\n",
            "2\n",
            "1\n"
          ]
        }
      ]
    },
    {
      "cell_type": "markdown",
      "source": [
        "**Question 3.** Given an integer array nums, return the length of its longest harmonious subsequence\n",
        "among all its possible subsequences."
      ],
      "metadata": {
        "id": "fFka5lBSkkSO"
      }
    },
    {
      "cell_type": "code",
      "source": [
        "#Solution:\n",
        "from collections import Counter\n",
        "\n",
        "def findLHS(nums):\n",
        "    c=Counter(nums)\n",
        "\n",
        "    return max([v+c[k+1] for k,v in c.items() if k+1 in c]+[0])\n",
        "\n",
        "#test\n",
        "print(findLHS([1,3,2,2,5,2,3,7]))\n",
        "print(findLHS([1,2,3,4]))\n",
        "print(findLHS([1,1,1,1]))"
      ],
      "metadata": {
        "colab": {
          "base_uri": "https://localhost:8080/"
        },
        "id": "VF5KPccsktu7",
        "outputId": "29c389f5-faef-481c-cd67-6242445fcc04"
      },
      "execution_count": 6,
      "outputs": [
        {
          "output_type": "stream",
          "name": "stdout",
          "text": [
            "5\n",
            "2\n",
            "0\n"
          ]
        }
      ]
    },
    {
      "cell_type": "markdown",
      "source": [
        "**Question 4.** Given an integer array flowerbed containing 0's and 1's, where 0 means empty and 1 means not empty, and an integer n, return true if n new flowers can be planted in the flowerbed without violating the no-adjacent-flowers rule and false otherwise."
      ],
      "metadata": {
        "id": "AYFN9NJaoJIf"
      }
    },
    {
      "cell_type": "code",
      "source": [
        "#Solution:\n",
        "\n",
        "def canPlaceFlowers(flowerbed,n):\n",
        "\n",
        "        f=[0]+flowerbed+[0]\n",
        "\n",
        "        for i in range(1,len(f)-1):\n",
        "            if f[i-1]==0 and f[i]==0 and f[i+1]==0:\n",
        "                f[i]=1\n",
        "                n-=1\n",
        "        return n<=0\n",
        "\n",
        "#Test\n",
        "print(canPlaceFlowers([1,0,0,0,1],1))\n",
        "print(canPlaceFlowers([1,0,0,0,1],2))"
      ],
      "metadata": {
        "colab": {
          "base_uri": "https://localhost:8080/"
        },
        "id": "9lDSRKXXoO_R",
        "outputId": "f1549af6-9431-44eb-d97b-42bbcc750588"
      },
      "execution_count": 2,
      "outputs": [
        {
          "output_type": "stream",
          "name": "stdout",
          "text": [
            "True\n",
            "False\n"
          ]
        }
      ]
    },
    {
      "cell_type": "markdown",
      "source": [
        "**Question 5**.\n",
        "Given an integer array nums, find three numbers whose product is maximum and return the maximum product.\n"
      ],
      "metadata": {
        "id": "I4ZUkq-8cSCw"
      }
    },
    {
      "cell_type": "code",
      "source": [
        "#Solution:\n",
        "\n",
        "def maximumProduct(nums):\n",
        "\n",
        "      numbers=sorted(nums)\n",
        "      product1=numbers[-1]*numbers[-2]*numbers[-3]\n",
        "      product2=numbers[0]*numbers[1]*numbers[-1]\n",
        "\n",
        "      return max(product1,product2)\n",
        "\n",
        "#Test\n",
        "print(maximumProduct([1,2,3]))\n",
        "print(maximumProduct([1,2,3,4]))\n",
        "print(maximumProduct([-1,-2,-3]))"
      ],
      "metadata": {
        "colab": {
          "base_uri": "https://localhost:8080/"
        },
        "id": "we9iV-MTchWK",
        "outputId": "e7b1671d-ae23-4448-a946-58cdf5e751d6"
      },
      "execution_count": 3,
      "outputs": [
        {
          "output_type": "stream",
          "name": "stdout",
          "text": [
            "6\n",
            "24\n",
            "-6\n"
          ]
        }
      ]
    },
    {
      "cell_type": "markdown",
      "source": [
        "**Question 6**. Given an array of integers nums which is sorted in ascending order, and an integer target,\n",
        "write a function to search target in nums. If target exists, then return its index. Otherwise,\n",
        "return -1.\n"
      ],
      "metadata": {
        "id": "4FfSiELDe4e-"
      }
    },
    {
      "cell_type": "code",
      "source": [
        "#Solution:\n",
        "\n",
        "def search(nums,target):\n",
        "        l,r=0, len(nums)-1\n",
        "\n",
        "        while l<=r:\n",
        "            m=l+((r-l)//2)\n",
        "            if nums[m]>target:\n",
        "                r=m-1\n",
        "            elif nums[m]<target:\n",
        "                l=m+1\n",
        "            else:\n",
        "                return m\n",
        "        return -1\n",
        "\n",
        "#Test:\n",
        "print(search([-1,0,3,5,9,12],9))\n",
        "print(search([-1,0,3,5,9,12],2))"
      ],
      "metadata": {
        "colab": {
          "base_uri": "https://localhost:8080/"
        },
        "id": "pyoI54gkfF5N",
        "outputId": "deb854b1-2c5a-4f1f-847c-8cf208aef2fd"
      },
      "execution_count": 5,
      "outputs": [
        {
          "output_type": "stream",
          "name": "stdout",
          "text": [
            "4\n",
            "-1\n"
          ]
        }
      ]
    },
    {
      "cell_type": "markdown",
      "source": [
        "**Question 7.** Given an integer array nums, return true if the given array is monotonic, or false otherwise."
      ],
      "metadata": {
        "id": "I9obDNH9i9o-"
      }
    },
    {
      "cell_type": "code",
      "source": [
        "#Solution:\n",
        "\n",
        "def isMonotonic(nums):\n",
        "      inc=False\n",
        "      dec=False\n",
        "\n",
        "      for i in range(len(nums)-1):\n",
        "          if nums[i]>nums[i+1]:\n",
        "              dec=True\n",
        "          elif nums[i]<nums[i+1]:\n",
        "              inc=True\n",
        "\n",
        "          if inc==True and dec==True:\n",
        "              return False\n",
        "      return True\n",
        "\n",
        "#Test\n",
        "print(isMonotonic([1,2,2,3]))\n",
        "print(isMonotonic([6,5,4,4]))\n",
        "print(isMonotonic([1,3,2]))"
      ],
      "metadata": {
        "colab": {
          "base_uri": "https://localhost:8080/"
        },
        "id": "tCsiKYvSjDuG",
        "outputId": "751b4dd5-dc04-4df8-93df-0f9c2ca52454"
      },
      "execution_count": 7,
      "outputs": [
        {
          "output_type": "stream",
          "name": "stdout",
          "text": [
            "True\n",
            "True\n",
            "False\n"
          ]
        }
      ]
    },
    {
      "cell_type": "markdown",
      "source": [
        "**Question 8.** Return the minimum score of nums after applying the mentioned operation at most once for each index in it."
      ],
      "metadata": {
        "id": "7JKTKAPslWe-"
      }
    },
    {
      "cell_type": "code",
      "source": [
        "#Solution:\n",
        "\n",
        "def smallestRangeI(nums,k):\n",
        "        nums.sort()\n",
        "\n",
        "        target=nums[0]+k\n",
        "\n",
        "        best=0\n",
        "        for num in nums:\n",
        "            best=max(best,max(abs(num-target)-k,0))\n",
        "\n",
        "        return best\n",
        "\n",
        "#Test:\n",
        "print(smallestRangeI([1],0))\n",
        "print(smallestRangeI([0,10],2))\n",
        "print(smallestRangeI([1,3,6],3))\n",
        ""
      ],
      "metadata": {
        "colab": {
          "base_uri": "https://localhost:8080/"
        },
        "id": "3L15li7Nle_F",
        "outputId": "d33a725b-246e-40fd-d9da-4b00dc58eaa0"
      },
      "execution_count": 9,
      "outputs": [
        {
          "output_type": "stream",
          "name": "stdout",
          "text": [
            "0\n",
            "6\n",
            "0\n"
          ]
        }
      ]
    }
  ]
}