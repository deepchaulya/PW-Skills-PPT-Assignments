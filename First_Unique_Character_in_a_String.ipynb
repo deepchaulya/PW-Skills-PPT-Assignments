{
  "nbformat": 4,
  "nbformat_minor": 0,
  "metadata": {
    "colab": {
      "provenance": [],
      "authorship_tag": "ABX9TyMCSykPqqkV9Hr3BCj8wIRw",
      "include_colab_link": true
    },
    "kernelspec": {
      "name": "python3",
      "display_name": "Python 3"
    },
    "language_info": {
      "name": "python"
    }
  },
  "cells": [
    {
      "cell_type": "markdown",
      "metadata": {
        "id": "view-in-github",
        "colab_type": "text"
      },
      "source": [
        "<a href=\"https://colab.research.google.com/github/deepchaulya/PW-Skills-PPT-Assignments/blob/main/First_Unique_Character_in_a_String.ipynb\" target=\"_parent\"><img src=\"https://colab.research.google.com/assets/colab-badge.svg\" alt=\"Open In Colab\"/></a>"
      ]
    },
    {
      "cell_type": "code",
      "execution_count": 3,
      "metadata": {
        "id": "YcskF49fBuWo"
      },
      "outputs": [],
      "source": [
        "def firstUniqChar(s):\n",
        "        import collections\n",
        "\n",
        "        counter=collections.Counter(list(s))\n",
        "\n",
        "        for i in range(len(s)):\n",
        "            if counter.get(s[i])==1:\n",
        "                return i\n",
        "\n",
        "        return -1"
      ]
    }
  ]
}