{
  "nbformat": 4,
  "nbformat_minor": 0,
  "metadata": {
    "colab": {
      "provenance": [],
      "authorship_tag": "ABX9TyMxeDrCgRXfobLDuYsvdmi8",
      "include_colab_link": true
    },
    "kernelspec": {
      "name": "python3",
      "display_name": "Python 3"
    },
    "language_info": {
      "name": "python"
    }
  },
  "cells": [
    {
      "cell_type": "markdown",
      "metadata": {
        "id": "view-in-github",
        "colab_type": "text"
      },
      "source": [
        "<a href=\"https://colab.research.google.com/github/deepchaulya/PW-Skills-PPT-Assignments/blob/main/Move_Zeroes.ipynb\" target=\"_parent\"><img src=\"https://colab.research.google.com/assets/colab-badge.svg\" alt=\"Open In Colab\"/></a>"
      ]
    },
    {
      "cell_type": "code",
      "execution_count": 2,
      "metadata": {
        "id": "pk-LbdKgAHGG"
      },
      "outputs": [],
      "source": [
        "def moveZeroes(nums):\n",
        "        l=0\n",
        "        for r in range(len(nums)):\n",
        "            if nums[r]:\n",
        "                nums[l],nums[r]=nums[r],nums[l]\n",
        "                l+=1\n",
        "        return nums"
      ]
    }
  ]
}